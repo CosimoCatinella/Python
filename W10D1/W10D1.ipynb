{
 "cells": [
  {
   "cell_type": "code",
   "execution_count": 2,
   "id": "50550b31-b1f2-4bef-84f7-6b69c86c1ff5",
   "metadata": {},
   "outputs": [],
   "source": [
    "#Esercizio Abbiamo una lista di liste: Che tipo di struttura dati o matematica potrebbe rappresentare? \n",
    "#Notare che tutte le liste \"interne\" sono della stessa dimensione Come facciamo per accedere ad un elemento in particolare?"
   ]
  },
  {
   "cell_type": "code",
   "execution_count": 4,
   "id": "e973e6d1-f630-4e6e-81f3-e9b83f23a3ea",
   "metadata": {},
   "outputs": [
    {
     "name": "stdout",
     "output_type": "stream",
     "text": [
      "Elemento alla seconda riga e terza colonna: 7\n"
     ]
    }
   ],
   "source": [
    "# Lista di liste rappresentante una matrice\n",
    "mat = [[0, 1, 2, 3, 4], [5, 6, 7, 8, 9], [10, 11, 12, 13, 14]]\n",
    "\n",
    "# La matrice in questione ha una struttura tabellare e per accere ad un elemente in particolare bisogna indicare i doppi indici\n",
    "elemento = mat[1][2]  # La numerazione degli indici inizia da 0\n",
    "print(\"Elemento alla seconda riga e terza colonna:\", elemento)\n",
    "\n"
   ]
  },
  {
   "cell_type": "code",
   "execution_count": null,
   "id": "b1bb14f3-bde5-4769-8400-ae50704cc49a",
   "metadata": {},
   "outputs": [],
   "source": [
    "#Esercizio Importiamo il modulo math e proviamo a usare le funzioni \n",
    "#.sin() .cos() .factorial() e la variabile .pi la riconoscete?"
   ]
  },
  {
   "cell_type": "code",
   "execution_count": 7,
   "id": "97160228-e01f-45e2-af8e-f2e002382528",
   "metadata": {},
   "outputs": [
    {
     "name": "stdout",
     "output_type": "stream",
     "text": [
      "Seno di 45 gradi: 0.8509035245341184\n",
      "Coseno di 30 gradi: 0.15425144988758405\n",
      "Fattoriale di 5: 120\n",
      "Il valore di pi (π) è: 3.141592653589793\n"
     ]
    }
   ],
   "source": [
    "import math\n",
    "\n",
    "# Calcola il seno di 45 gradi (pi/4 radianti)\n",
    "seno_45 = math.sin(45)\n",
    "print(\"Seno di 45 gradi:\", seno_45)\n",
    "\n",
    "# Calcola il coseno di 30 gradi (pi/6 radianti)\n",
    "coseno_30 = math.cos(30)\n",
    "print(\"Coseno di 30 gradi:\", coseno_30)\n",
    "\n",
    "# Calcola il fattoriale di 5\n",
    "fattoriale_5 = math.factorial(5)\n",
    "print(\"Fattoriale di 5:\", fattoriale_5)\n",
    "\n",
    "# Stampa il valore di pi greco\n",
    "print(\"Il valore di pi (π) è:\", math.pi)"
   ]
  },
  {
   "cell_type": "code",
   "execution_count": 9,
   "id": "2e10b858-c0f3-486f-85c0-9b06c9b29758",
   "metadata": {},
   "outputs": [
    {
     "name": "stdout",
     "output_type": "stream",
     "text": [
      "Pi greco in gradi: 180.0\n"
     ]
    }
   ],
   "source": [
    "# Converte pi greco da radianti a gradi\n",
    "gradi = math.degrees(math.pi)\n",
    "print(\"Pi greco in gradi:\", gradi)"
   ]
  },
  {
   "cell_type": "code",
   "execution_count": 10,
   "id": "7907488c-8ec3-4a2c-ba71-d0d174399c16",
   "metadata": {},
   "outputs": [],
   "source": [
    "#Esercizio L'azienda Object SpA ha creato una lista di quanti oggetti ha venduto ogni mese nell'ultimo anno: \n",
    "#trasformiamola in un array NumPy (casting): lst = np.array(lst) e rispondiamo alle domande del CEO della Object SpA: \n",
    "#• qual è stata la vendita massima mensile? E quella minima? \n",
    "#• quali sono le vendite mensili maggiori di 4999 oggetti? E quante ne sono? \n",
    "#• quali sono le vendite minori di 3000 oggetti? \n",
    "#• in media quanti oggetti sono stati venduti a"
   ]
  },
  {
   "cell_type": "code",
   "execution_count": 11,
   "id": "947cb8e3-653c-4c66-b161-6a705145867d",
   "metadata": {},
   "outputs": [
    {
     "name": "stdout",
     "output_type": "stream",
     "text": [
      "Vendita massima mensile: 8150\n",
      "Vendita minima mensile: 1280\n",
      "Vendite mensili maggiori di 4999 oggetti: [5500 7200 6410 8150 7100 5350]\n",
      "Numero di vendite maggiori di 4999 oggetti: 6\n",
      "Vendite mensili minori di 3000 oggetti: [2000 1280 1900 2500]\n",
      "Media delle vendite mensili: 4634.166666666667\n"
     ]
    }
   ],
   "source": [
    "import numpy as np\n",
    "\n",
    "# Lista delle vendite mensili\n",
    "lst = [2000, 5500, 7200, 4320, 1280, 1900, 2500, 3900, 6410, 8150, 7100, 5350]\n",
    "\n",
    "# Trasformiamo la lista in un array NumPy\n",
    "lst = np.array(lst)\n",
    "\n",
    "# Vendita massima mensile\n",
    "vendita_massima = np.max(lst)\n",
    "print(\"Vendita massima mensile:\", vendita_massima)\n",
    "\n",
    "# Vendita minima mensile\n",
    "vendita_minima = np.min(lst)\n",
    "print(\"Vendita minima mensile:\", vendita_minima)\n",
    "\n",
    "# Vendite mensili maggiori di 4999 oggetti\n",
    "vendite_maggiori_di_4999 = lst[lst > 4999]\n",
    "print(\"Vendite mensili maggiori di 4999 oggetti:\", vendite_maggiori_di_4999)\n",
    "print(\"Numero di vendite maggiori di 4999 oggetti:\", len(vendite_maggiori_di_4999))\n",
    "\n",
    "# Vendite minori di 3000 oggetti\n",
    "vendite_minori_di_3000 = lst[lst < 3000]\n",
    "print(\"Vendite mensili minori di 3000 oggetti:\", vendite_minori_di_3000)\n",
    "\n",
    "# Media delle vendite mensili\n",
    "media_vendite = np.mean(lst)\n",
    "print(\"Media delle vendite mensili:\", media_vendite)\n"
   ]
  },
  {
   "cell_type": "code",
   "execution_count": 13,
   "id": "699c489b-78d8-422c-b5a5-421e0ec0cde2",
   "metadata": {},
   "outputs": [],
   "source": [
    "#Consideriamo il seguente dizionario: \n",
    "#fatturati_dict = {1997: 12_000, 1998: 15_000, 1999: 20_000, 2000: 23_000, 2001: 25_000, 2002: 17_000, 2003: 14_000, 2004: 21_000} \n",
    "#Consideriamo ora la seguente Series: fatturati_series = pd.Series([12_000, 15_000, 20_000, 23_000, 25_000, 17_000, 14_000, 21_000],\n",
    "#+ index=range(1997, 2005)) Possiamo accedere alle stesse informazioni nello stesso modo: fatturati_dict[1997] fatturati_series[1997] \n",
    "#Dunque qual è la differenza tra i due tipi di dato? \n",
    "#Cosa potremmo fare con la Series che non possiamo fare con il dizionario?"
   ]
  },
  {
   "cell_type": "code",
   "execution_count": 14,
   "id": "116d881c-4e3d-4fb9-879e-25d2205ac7ed",
   "metadata": {},
   "outputs": [],
   "source": [
    "#I dizionari non mantengono un ordine specifico degli elementi, mentre le Series di pandas sono ordinate in base agli indici.\n",
    "#Le Series di pandas offrono molte funzionalità aggiuntive per l'analisi e la manipolazione dei dati."
   ]
  },
  {
   "cell_type": "code",
   "execution_count": null,
   "id": "8c3bc901-7f13-484d-acbe-3d174a112ef2",
   "metadata": {},
   "outputs": [],
   "source": [
    "#Esercizio L'azienda Object SpA ha un dataset con tutti gli stipendi dei dipendenti, \n",
    "#memorizzato in un ndarray: \n",
    "#import numpy as np stipendi = np.array( [100, 200, 300, 400, 500,  600, 700, 800, 900, 1000] ) \n",
    "#L'azienda ci chiede di raddoppiare tutti gli stipendi; facciamolo in due modi: \n",
    "#• con un ciclo for \n",
    "#• con il masking"
   ]
  },
  {
   "cell_type": "code",
   "execution_count": 15,
   "id": "c9f2b45f-671f-427a-8b1c-34ab295a1c7f",
   "metadata": {},
   "outputs": [
    {
     "name": "stdout",
     "output_type": "stream",
     "text": [
      "Stipendi raddoppiati con un ciclo for: [ 200  400  600  800 1000 1200 1400 1600 1800 2000]\n"
     ]
    }
   ],
   "source": [
    "\n",
    "# Array degli stipendi\n",
    "stipendi = np.array([100, 200, 300, 400, 500, 600, 700, 800, 900, 1000])\n",
    "\n",
    "# Raddoppiamo gli stipendi con un ciclo for\n",
    "for i in range(len(stipendi)):\n",
    "    stipendi[i] *= 2\n",
    "\n",
    "print(\"Stipendi raddoppiati con un ciclo for:\", stipendi)\n"
   ]
  },
  {
   "cell_type": "code",
   "execution_count": 16,
   "id": "75306bf9-f74f-44ad-b4c5-ae68b16d7bbe",
   "metadata": {},
   "outputs": [
    {
     "name": "stdout",
     "output_type": "stream",
     "text": [
      "Stipendi raddoppiati con il masking: [ 200  400  600  800 1000 1200 1400 1600 1800 2000]\n"
     ]
    }
   ],
   "source": [
    "import numpy as np\n",
    "\n",
    "# Array degli stipendi\n",
    "stipendi = np.array([100, 200, 300, 400, 500, 600, 700, 800, 900, 1000])\n",
    "\n",
    "# Raddoppiamo gli stipendi utilizzando il masking\n",
    "stipendi_raddoppiati = stipendi * 2\n",
    "\n",
    "print(\"Stipendi raddoppiati con il masking:\", stipendi_raddoppiati)"
   ]
  },
  {
   "cell_type": "code",
   "execution_count": null,
   "id": "78998df2-bc33-460d-bb7a-7505b4762383",
   "metadata": {},
   "outputs": [],
   "source": []
  }
 ],
 "metadata": {
  "kernelspec": {
   "display_name": "Python 3 (ipykernel)",
   "language": "python",
   "name": "python3"
  },
  "language_info": {
   "codemirror_mode": {
    "name": "ipython",
    "version": 3
   },
   "file_extension": ".py",
   "mimetype": "text/x-python",
   "name": "python",
   "nbconvert_exporter": "python",
   "pygments_lexer": "ipython3",
   "version": "3.11.7"
  }
 },
 "nbformat": 4,
 "nbformat_minor": 5
}
