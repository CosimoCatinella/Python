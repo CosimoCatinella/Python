{
 "cells": [
  {
   "cell_type": "code",
   "execution_count": 9,
   "id": "900009be-fad8-4ad2-be0a-8868eda62a9c",
   "metadata": {},
   "outputs": [],
   "source": [
    "# Esercizio 1 Abbiamo 25 studenti; memorizzare questo dato in una variabile."
   ]
  },
  {
   "cell_type": "code",
   "execution_count": 10,
   "id": "285ab0b6-508c-4f34-8193-a0bed6a4be05",
   "metadata": {},
   "outputs": [],
   "source": [
    "n_studenti=25"
   ]
  },
  {
   "cell_type": "code",
   "execution_count": 11,
   "id": "ec419221-fd1e-4b4d-8560-66f8f6f6188e",
   "metadata": {},
   "outputs": [
    {
     "name": "stdout",
     "output_type": "stream",
     "text": [
      "25\n"
     ]
    }
   ],
   "source": [
    "# Stampare studenti 2 modi\n",
    "print(n_studenti)"
   ]
  },
  {
   "cell_type": "code",
   "execution_count": 12,
   "id": "1d22f9ca-99e3-4c9f-9236-bfd6c9fefe35",
   "metadata": {},
   "outputs": [
    {
     "data": {
      "text/plain": [
       "25"
      ]
     },
     "execution_count": 12,
     "metadata": {},
     "output_type": "execute_result"
    }
   ],
   "source": [
    "n_studenti"
   ]
  },
  {
   "cell_type": "code",
   "execution_count": 13,
   "id": "51e44987-7e73-473e-9a11-aa56d53529cb",
   "metadata": {},
   "outputs": [],
   "source": [
    "new_studenti=3"
   ]
  },
  {
   "cell_type": "code",
   "execution_count": 14,
   "id": "833aebc3-b8f1-4d3f-ad19-ddcc3a9e28a6",
   "metadata": {},
   "outputs": [],
   "source": [
    "tot_studenti=n_studenti+new_studenti"
   ]
  },
  {
   "cell_type": "code",
   "execution_count": 15,
   "id": "152ad461-ac2b-4bab-b168-647d4fccc428",
   "metadata": {},
   "outputs": [
    {
     "name": "stdout",
     "output_type": "stream",
     "text": [
      "28\n"
     ]
    }
   ],
   "source": [
    "print(tot_studenti)"
   ]
  },
  {
   "cell_type": "code",
   "execution_count": 16,
   "id": "f996e4a1-3d1b-49e1-9166-8bebd7e1fef9",
   "metadata": {},
   "outputs": [
    {
     "name": "stdout",
     "output_type": "stream",
     "text": [
      "Epicode\n"
     ]
    }
   ],
   "source": [
    "stringa = \"Epicode\"\n",
    "print(stringa)"
   ]
  },
  {
   "cell_type": "code",
   "execution_count": 33,
   "id": "73e62d17-b28d-4121-8c0a-fac64fd92f90",
   "metadata": {},
   "outputs": [],
   "source": [
    "x=10"
   ]
  },
  {
   "cell_type": "code",
   "execution_count": 18,
   "id": "0551201e-d111-4aa0-b9e1-0d4e48a21f14",
   "metadata": {},
   "outputs": [],
   "source": [
    "x = (x + 2)*3"
   ]
  },
  {
   "cell_type": "code",
   "execution_count": 19,
   "id": "8fc5a483-67fb-47c6-a2f4-59886d6d2a77",
   "metadata": {},
   "outputs": [
    {
     "data": {
      "text/plain": [
       "36"
      ]
     },
     "execution_count": 19,
     "metadata": {},
     "output_type": "execute_result"
    }
   ],
   "source": [
    "x"
   ]
  },
  {
   "cell_type": "code",
   "execution_count": null,
   "id": "e0f898e9-3d6c-4961-8d66-5cf611777f8a",
   "metadata": {},
   "outputs": [],
   "source": [
    "x=10"
   ]
  },
  {
   "cell_type": "code",
   "execution_count": 34,
   "id": "b408e2d0-0694-4691-abdb-4874d1d9901b",
   "metadata": {},
   "outputs": [],
   "source": [
    "x += 2 \n",
    "x *= 3"
   ]
  },
  {
   "cell_type": "code",
   "execution_count": 36,
   "id": "4ee49355-48f5-4441-9254-4accc16ea2e1",
   "metadata": {},
   "outputs": [
    {
     "data": {
      "text/plain": [
       "36"
      ]
     },
     "execution_count": 36,
     "metadata": {},
     "output_type": "execute_result"
    }
   ],
   "source": [
    "x"
   ]
  },
  {
   "cell_type": "code",
   "execution_count": null,
   "id": "732d8777-3476-4b66-b842-994bee5a09d1",
   "metadata": {},
   "outputs": [],
   "source": [
    "# Verificare, per ognuna delle seguenti stringhe, se il numero di caratteri è compreso tra 5 e 8: \n",
    "# str1 = \"Windows\" • str2 = \"Excel\" • str3 = \"Powerpoint\" • str4 = \"Word\""
   ]
  },
  {
   "cell_type": "code",
   "execution_count": 45,
   "id": "a89a9fe0-36fa-427a-afe6-b6f155a9cae0",
   "metadata": {},
   "outputs": [
    {
     "data": {
      "text/plain": [
       "7"
      ]
     },
     "execution_count": 45,
     "metadata": {},
     "output_type": "execute_result"
    }
   ],
   "source": [
    "len(\"Windows\")"
   ]
  },
  {
   "cell_type": "code",
   "execution_count": 46,
   "id": "71695b4c-0153-4d2c-b427-b5ab3529f67e",
   "metadata": {},
   "outputs": [
    {
     "data": {
      "text/plain": [
       "5"
      ]
     },
     "execution_count": 46,
     "metadata": {},
     "output_type": "execute_result"
    }
   ],
   "source": [
    "len(\"Excel\")"
   ]
  },
  {
   "cell_type": "code",
   "execution_count": 47,
   "id": "2aa91290-21ec-4e4c-9bda-bf7de1051945",
   "metadata": {},
   "outputs": [
    {
     "data": {
      "text/plain": [
       "10"
      ]
     },
     "execution_count": 47,
     "metadata": {},
     "output_type": "execute_result"
    }
   ],
   "source": [
    "len(\"Powerpoint\")"
   ]
  },
  {
   "cell_type": "code",
   "execution_count": 48,
   "id": "b393f0a6-0d16-4026-acdf-81de7b30ea77",
   "metadata": {},
   "outputs": [
    {
     "data": {
      "text/plain": [
       "4"
      ]
     },
     "execution_count": 48,
     "metadata": {},
     "output_type": "execute_result"
    }
   ],
   "source": [
    "len(\"Word\")"
   ]
  },
  {
   "cell_type": "code",
   "execution_count": 50,
   "id": "6c8355c0-58ba-4bd3-9aa0-91ac46eef268",
   "metadata": {},
   "outputs": [],
   "source": [
    "secondi_in_un_anno= 365*24*60*60"
   ]
  },
  {
   "cell_type": "code",
   "execution_count": 52,
   "id": "6f979d14-779c-4b6e-a825-b141db6e4de4",
   "metadata": {},
   "outputs": [
    {
     "name": "stdout",
     "output_type": "stream",
     "text": [
      "In un anno non bisestile ci sono: 31536000 secondi\n"
     ]
    }
   ],
   "source": [
    "print(\"In un anno non bisestile ci sono:\", secondi_in_un_anno, \"secondi\")"
   ]
  },
  {
   "cell_type": "code",
   "execution_count": 53,
   "id": "e50bd420-ba77-4430-9ea4-3937c5ccdad4",
   "metadata": {},
   "outputs": [],
   "source": [
    "my_string = \"I am studying Python\""
   ]
  },
  {
   "cell_type": "code",
   "execution_count": 54,
   "id": "3189d445-08e4-471e-ae27-87a599ae8f4e",
   "metadata": {},
   "outputs": [
    {
     "data": {
      "text/plain": [
       "'I AM STUDYING PYTHON'"
      ]
     },
     "execution_count": 54,
     "metadata": {},
     "output_type": "execute_result"
    }
   ],
   "source": [
    "my_string.upper()"
   ]
  },
  {
   "cell_type": "code",
   "execution_count": 56,
   "id": "9e805bd7-2884-4c25-99bf-3e2d3cef3eaf",
   "metadata": {},
   "outputs": [
    {
     "data": {
      "text/plain": [
       "'i am studying python'"
      ]
     },
     "execution_count": 56,
     "metadata": {},
     "output_type": "execute_result"
    }
   ],
   "source": [
    "my_string.lower()"
   ]
  },
  {
   "cell_type": "code",
   "execution_count": 57,
   "id": "949bdfdd-aeb7-4de7-9539-2f9c8c9624b4",
   "metadata": {},
   "outputs": [
    {
     "data": {
      "text/plain": [
       "'I am studying a lot'"
      ]
     },
     "execution_count": 57,
     "metadata": {},
     "output_type": "execute_result"
    }
   ],
   "source": [
    "my_string.replace(\"Python\", \"a lot\")"
   ]
  },
  {
   "cell_type": "code",
   "execution_count": 58,
   "id": "c781b209-703c-4aef-afd6-d62fe5dbb16f",
   "metadata": {},
   "outputs": [
    {
     "data": {
      "text/plain": [
       "'I am studying Python'"
      ]
     },
     "execution_count": 58,
     "metadata": {},
     "output_type": "execute_result"
    }
   ],
   "source": [
    "my_string.strip()"
   ]
  },
  {
   "cell_type": "code",
   "execution_count": null,
   "id": "08c14b35-181b-4454-aaf4-8c81f26628e8",
   "metadata": {},
   "outputs": [],
   "source": [
    "# Non succede niente in quanto non ci sono spazi vuoti nè all'inizio e nè alla fine della stringa"
   ]
  },
  {
   "cell_type": "code",
   "execution_count": null,
   "id": "bc7fc23c-673f-4f99-9749-f7a3070d081d",
   "metadata": {},
   "outputs": [],
   "source": []
  },
  {
   "cell_type": "code",
   "execution_count": 59,
   "id": "ccbf4375-5ef3-4f8c-9f5b-2200e3625d06",
   "metadata": {},
   "outputs": [],
   "source": [
    "my_string2=\" I am studying Python \""
   ]
  },
  {
   "cell_type": "code",
   "execution_count": 60,
   "id": "c500961a-ff00-4709-a76c-e97b2029a98c",
   "metadata": {},
   "outputs": [
    {
     "data": {
      "text/plain": [
       "' I am studying Python '"
      ]
     },
     "execution_count": 60,
     "metadata": {},
     "output_type": "execute_result"
    }
   ],
   "source": [
    "my_string2"
   ]
  },
  {
   "cell_type": "code",
   "execution_count": 61,
   "id": "f11915b1-6e92-4dd0-af4c-bd6407622a46",
   "metadata": {},
   "outputs": [
    {
     "data": {
      "text/plain": [
       "'I am studying Python'"
      ]
     },
     "execution_count": 61,
     "metadata": {},
     "output_type": "execute_result"
    }
   ],
   "source": [
    "my_string2.strip()"
   ]
  },
  {
   "cell_type": "code",
   "execution_count": 62,
   "id": "53896292-1fcb-402f-b02c-6495a508fd0c",
   "metadata": {},
   "outputs": [],
   "source": [
    "# In my_string2 rimuove appunto i vuoti"
   ]
  },
  {
   "cell_type": "code",
   "execution_count": null,
   "id": "bc76b461-f4cb-414e-8103-37981e00b9eb",
   "metadata": {},
   "outputs": [],
   "source": []
  },
  {
   "cell_type": "code",
   "execution_count": 64,
   "id": "3238ae88-3673-4701-b96e-1252bb00404f",
   "metadata": {},
   "outputs": [
    {
     "data": {
      "text/plain": [
       "['I', 'am', 'studying', 'Python']"
      ]
     },
     "execution_count": 64,
     "metadata": {},
     "output_type": "execute_result"
    }
   ],
   "source": [
    "my_string.split(\" \")"
   ]
  },
  {
   "cell_type": "code",
   "execution_count": null,
   "id": "220e91c2-ab8f-460a-986e-2ebd292233e0",
   "metadata": {},
   "outputs": [],
   "source": []
  },
  {
   "cell_type": "code",
   "execution_count": null,
   "id": "d6167505-f3b9-4254-8fbd-a52e68ac239a",
   "metadata": {},
   "outputs": [],
   "source": []
  }
 ],
 "metadata": {
  "kernelspec": {
   "display_name": "Python 3 (ipykernel)",
   "language": "python",
   "name": "python3"
  },
  "language_info": {
   "codemirror_mode": {
    "name": "ipython",
    "version": 3
   },
   "file_extension": ".py",
   "mimetype": "text/x-python",
   "name": "python",
   "nbconvert_exporter": "python",
   "pygments_lexer": "ipython3",
   "version": "3.11.7"
  }
 },
 "nbformat": 4,
 "nbformat_minor": 5
}
