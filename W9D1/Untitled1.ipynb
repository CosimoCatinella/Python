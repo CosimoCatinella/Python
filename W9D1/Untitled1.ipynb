{
 "cells": [
  {
   "cell_type": "code",
   "execution_count": 4,
   "id": "005980f3-8d4e-4871-b063-653246ae88e7",
   "metadata": {},
   "outputs": [],
   "source": [
    "nome_scuola = \"Epicode\""
   ]
  },
  {
   "cell_type": "code",
   "execution_count": 5,
   "id": "8ad120ca-fc9e-4a15-be00-32fc62e1c48e",
   "metadata": {},
   "outputs": [],
   "source": [
    "i = 0"
   ]
  },
  {
   "cell_type": "code",
   "execution_count": 6,
   "id": "4f9a5cd3-ca65-4ae3-a907-21195d38e9f4",
   "metadata": {},
   "outputs": [
    {
     "name": "stdout",
     "output_type": "stream",
     "text": [
      "E\n",
      "p\n",
      "i\n",
      "c\n",
      "o\n",
      "d\n",
      "e\n"
     ]
    }
   ],
   "source": [
    "while i < len(nome_scuola):\n",
    "    print(nome_scuola[i])\n",
    "    i += 1"
   ]
  },
  {
   "cell_type": "code",
   "execution_count": null,
   "id": "0852012f-398a-43d5-849f-747518116904",
   "metadata": {},
   "outputs": [],
   "source": [
    "# Stampare a video tutti i numeri da 0 a 20 utilizzando il costrutto while."
   ]
  },
  {
   "cell_type": "code",
   "execution_count": 9,
   "id": "de28f84e-4469-4535-bae4-d123cbc3aca1",
   "metadata": {},
   "outputs": [
    {
     "name": "stdout",
     "output_type": "stream",
     "text": [
      "0\n",
      "1\n",
      "2\n",
      "3\n",
      "4\n",
      "5\n",
      "6\n",
      "7\n",
      "8\n",
      "9\n",
      "10\n",
      "11\n",
      "12\n",
      "13\n",
      "14\n",
      "15\n",
      "16\n",
      "17\n",
      "18\n",
      "19\n",
      "20\n"
     ]
    }
   ],
   "source": [
    "i = 0\n",
    "while i <= 20 : \n",
    "    print (i)\n",
    "    i += 1"
   ]
  },
  {
   "cell_type": "code",
   "execution_count": null,
   "id": "18957816-5dc5-4b01-847a-cb754fdd9a61",
   "metadata": {},
   "outputs": [],
   "source": [
    "#Calcolare e stampare tutte le prime 10 potenze di 2 (e.g., 2⁰, 2¹, 2², …) utilizzando un ciclo while."
   ]
  },
  {
   "cell_type": "code",
   "execution_count": 12,
   "id": "aca649f4-828f-445c-b7f3-5423cc938850",
   "metadata": {},
   "outputs": [
    {
     "name": "stdout",
     "output_type": "stream",
     "text": [
      "2^0 = 1\n",
      "2^1 = 2\n",
      "2^2 = 4\n",
      "2^3 = 8\n",
      "2^4 = 16\n",
      "2^5 = 32\n",
      "2^6 = 64\n",
      "2^7 = 128\n",
      "2^8 = 256\n",
      "2^9 = 512\n",
      "2^10 = 1024\n"
     ]
    }
   ],
   "source": [
    "esponente = 0\n",
    "risultato = 1\n",
    "while esponente <= 10:\n",
    "    print(f\"2^{esponente} =\", risultato)\n",
    "    risultato *= 2\n",
    "    esponente += 1"
   ]
  },
  {
   "cell_type": "code",
   "execution_count": 13,
   "id": "b7af57da-f0a1-4eb9-985b-a1f22eee9621",
   "metadata": {},
   "outputs": [],
   "source": [
    "# Calcolare e stampare tutte le prime N potenze di 2 utilizzando un ciclo while, domandando all'utente di inserire N."
   ]
  },
  {
   "cell_type": "code",
   "execution_count": 17,
   "id": "c0f0dbf6-4d99-4037-8030-42b3e1f6d998",
   "metadata": {},
   "outputs": [
    {
     "name": "stdin",
     "output_type": "stream",
     "text": [
      "Inserisci il numero di potenze di 2 da calcolare:  10\n"
     ]
    },
    {
     "name": "stdout",
     "output_type": "stream",
     "text": [
      "2^0 = 1\n",
      "2^1 = 2\n",
      "2^2 = 4\n",
      "2^3 = 8\n",
      "2^4 = 16\n",
      "2^5 = 32\n",
      "2^6 = 64\n",
      "2^7 = 128\n",
      "2^8 = 256\n",
      "2^9 = 512\n",
      "2^10 = 1024\n"
     ]
    }
   ],
   "source": [
    "N = int(input(\"Inserisci il numero di potenze di 2 da calcolare: \"))\n",
    "\n",
    "esponente = 0\n",
    "risultato = 1\n",
    "conteggio = 0\n",
    "\n",
    "while conteggio <= N:\n",
    "    print(f\"2^{esponente} =\", risultato)\n",
    "    risultato *= 2\n",
    "    esponente += 1\n",
    "    conteggio += 1"
   ]
  },
  {
   "cell_type": "code",
   "execution_count": null,
   "id": "70fa5abd-378a-4bdb-9d06-1b61564e20ac",
   "metadata": {},
   "outputs": [],
   "source": [
    "# Calcolare e stampare tutte le potenze di 2 minori di 25000."
   ]
  },
  {
   "cell_type": "code",
   "execution_count": 18,
   "id": "ce498ab6-760a-4977-a352-aba3a2726f2e",
   "metadata": {},
   "outputs": [
    {
     "name": "stdout",
     "output_type": "stream",
     "text": [
      "2^0 = 1\n",
      "2^1 = 2\n",
      "2^2 = 4\n",
      "2^3 = 8\n",
      "2^4 = 16\n",
      "2^5 = 32\n",
      "2^6 = 64\n",
      "2^7 = 128\n",
      "2^8 = 256\n",
      "2^9 = 512\n",
      "2^10 = 1024\n",
      "2^11 = 2048\n",
      "2^12 = 4096\n",
      "2^13 = 8192\n",
      "2^14 = 16384\n"
     ]
    }
   ],
   "source": [
    "esponente = 0\n",
    "risultato = 1\n",
    "\n",
    "while risultato < 25000:\n",
    "    print(f\"2^{esponente} =\", risultato)\n",
    "    risultato *= 2\n",
    "    esponente += 1"
   ]
  },
  {
   "cell_type": "code",
   "execution_count": 19,
   "id": "19901551-8e38-4450-8c1e-93a1b5315b47",
   "metadata": {},
   "outputs": [],
   "source": [
    "studenti = [\"Alex\", \"Bob\", \"Cindy\", \"Dan\", \"Emma\", \"Faith\", \"Grace\", \"Henry\"] \n",
    "corsi = [\"Cybersecurity\", \"Data Analyst\", \"Backend\", \"Frontend\", \"Data Analyst\", \"Backend\"]"
   ]
  },
  {
   "cell_type": "code",
   "execution_count": 21,
   "id": "db506cf9-83eb-4525-8b2a-6b2f834edc0d",
   "metadata": {},
   "outputs": [],
   "source": [
    "#Aggiungere i dati mancanti alla lista corsi, \n",
    "#sapendo che Emma segue Data Analyst \n",
    "#Faith segue Backend \n",
    "#Grace segue Frontend \n",
    "#Henry segue Cybersecurity \n",
    "#Aggiungeremo i dati mancanti uno alla volta con il metodo per appendere in coda alle liste, \n",
    "#poi verificheremo che sono della stessa lunghezza e  se lo sono stamperemo la lista corsi. \n",
    "#Se alcuni dati sono già presenti non vanno aggiunti di nuovo"
   ]
  },
  {
   "cell_type": "code",
   "execution_count": 22,
   "id": "fa4b2b50-da6b-43d2-8c79-0111a3372db7",
   "metadata": {},
   "outputs": [],
   "source": [
    "# Aggiungi i dati mancanti alla lista corsi\n",
    "if \"Cybersecurity\" not in corsi:\n",
    "    corsi.append(\"Cybersecurity\")\n",
    "elif \"Data Analyst\" not in corsi:\n",
    "    corsi.append(\"Data Analyst\")\n",
    "elif \"Backend\" not in corsi:\n",
    "    corsi.append(\"Backend\")\n",
    "elif \"Frontend\" not in corsi:\n",
    "    corsi.append(\"Frontend\")\n",
    "\n",
    "# Verifica che le liste siano della stessa lunghezza e stampa la lista corsi se lo sono\n",
    "if len(studenti) == len(corsi):\n",
    "    print(corsi)"
   ]
  },
  {
   "cell_type": "code",
   "execution_count": 23,
   "id": "786d5493-88fb-4aa5-9c3c-efec82424e29",
   "metadata": {},
   "outputs": [
    {
     "data": {
      "text/plain": [
       "['Cybersecurity',\n",
       " 'Data Analyst',\n",
       " 'Backend',\n",
       " 'Frontend',\n",
       " 'Data Analyst',\n",
       " 'Backend']"
      ]
     },
     "execution_count": 23,
     "metadata": {},
     "output_type": "execute_result"
    }
   ],
   "source": [
    "corsi"
   ]
  },
  {
   "cell_type": "code",
   "execution_count": 24,
   "id": "03eda644-ca55-4f04-a178-e165a6b9e4df",
   "metadata": {},
   "outputs": [
    {
     "data": {
      "text/plain": [
       "['Alex', 'Bob', 'Cindy', 'Dan', 'Emma', 'Faith', 'Grace', 'Henry']"
      ]
     },
     "execution_count": 24,
     "metadata": {},
     "output_type": "execute_result"
    }
   ],
   "source": [
    "studenti"
   ]
  },
  {
   "cell_type": "code",
   "execution_count": 26,
   "id": "cb103641-f71b-466e-a392-256111f75bf3",
   "metadata": {},
   "outputs": [],
   "source": [
    "#Scriviamo un programma che chiede in input all'utente una stringa e visualizza i primi 3 caratteri, \n",
    "#seguiti da 3 punti di sospensione e quindi gli ultimi 3 caratteri, \n",
    "#similmente all'esercizio della lezione scorsa."
   ]
  },
  {
   "cell_type": "code",
   "execution_count": 31,
   "id": "381e2fcc-9289-4fbe-a89e-09451f0bb1b6",
   "metadata": {},
   "outputs": [
    {
     "name": "stdin",
     "output_type": "stream",
     "text": [
      "Inserisci una stringa:  finalmente\n"
     ]
    },
    {
     "name": "stdout",
     "output_type": "stream",
     "text": [
      "fin...nte\n"
     ]
    }
   ],
   "source": [
    "stringa = input(\"Inserisci una stringa: \")\n",
    "lunghezza = len(stringa)\n",
    "if lunghezza <= 6:\n",
    "    print(\"La stringa è troppo corta.\")\n",
    "else:\n",
    "    primi_3 = stringa[:3] \n",
    "    ultimi_3 = stringa[-3:]\n",
    "    \n",
    "    print(primi_3 + \"...\" + ultimi_3)\n"
   ]
  },
  {
   "cell_type": "code",
   "execution_count": null,
   "id": "45575fab-6d1a-4463-8452-704b44b71705",
   "metadata": {},
   "outputs": [],
   "source": [
    "#Memorizza e stampa tutti i fattori di un numero dato in input. Esempio: • input: 150 • output: [2, 3, 5, 5]"
   ]
  },
  {
   "cell_type": "code",
   "execution_count": 39,
   "id": "84cb8a6c-102d-4c8c-9e3a-7eae07753d4a",
   "metadata": {},
   "outputs": [
    {
     "name": "stdin",
     "output_type": "stream",
     "text": [
      "Inserisci il numero di cui vuoi trovare i fattori: 10\n"
     ]
    },
    {
     "name": "stdout",
     "output_type": "stream",
     "text": [
      "I fattori di 10 sono: [1, 2, 5, 10]\n"
     ]
    }
   ],
   "source": [
    "n = int(input(\"Inserisci il numero di cui vuoi trovare i fattori:\"))\n",
    "fattori = []\n",
    "i = 1\n",
    "while i <= n:\n",
    "    if n % i == 0:\n",
    "        fattori.append(i)\n",
    "    i += 1\n",
    "print(\"I fattori di\", n, \"sono:\", fattori)"
   ]
  },
  {
   "cell_type": "code",
   "execution_count": null,
   "id": "64566540-290d-43b8-8ebc-cc4c69a81daf",
   "metadata": {},
   "outputs": [],
   "source": [
    "# Abbiamo la stringa: nome_scuola = \"Epicode\" Stampare ogni carattere della stringa, uno su ogni riga, utilizzando un costrutto for."
   ]
  },
  {
   "cell_type": "code",
   "execution_count": 40,
   "id": "49eeecdd-9585-41b3-84ef-8a5fc38ebf67",
   "metadata": {},
   "outputs": [
    {
     "name": "stdout",
     "output_type": "stream",
     "text": [
      "E\n",
      "p\n",
      "i\n",
      "c\n",
      "o\n",
      "d\n",
      "e\n"
     ]
    }
   ],
   "source": [
    "nome_scuola = \"Epicode\"\n",
    "\n",
    "for carattere in nome_scuola:\n",
    "    print(carattere)"
   ]
  },
  {
   "cell_type": "code",
   "execution_count": null,
   "id": "741f7720-878a-4722-abf0-7843bd66e4cb",
   "metadata": {},
   "outputs": [],
   "source": [
    "# Calcolare e stampare tutte le prime 10 potenze di 2 utilizzando un ciclo. Utilizzeremo: • un ciclo per generare i primi 10 numeri, e.g."
   ]
  },
  {
   "cell_type": "code",
   "execution_count": 41,
   "id": "7aa2f90a-64f2-4a4b-b93f-5818f201ef81",
   "metadata": {},
   "outputs": [
    {
     "name": "stdout",
     "output_type": "stream",
     "text": [
      "2^1 = 2\n",
      "2^2 = 4\n",
      "2^3 = 8\n",
      "2^4 = 16\n",
      "2^5 = 32\n",
      "2^6 = 64\n",
      "2^7 = 128\n",
      "2^8 = 256\n",
      "2^9 = 512\n",
      "2^10 = 1024\n"
     ]
    }
   ],
   "source": [
    "range_numerico = list()  # inizializza la lista dei numeri\n",
    "num = 1  # inizializza il contatore\n",
    "\n",
    "# Ciclo per generare i primi 10 numeri\n",
    "while num <= 10:\n",
    "    range_numerico.append(num)\n",
    "    num += 1\n",
    "\n",
    "# Calcola e stampa le prime 10 potenze di 2\n",
    "for numero in range_numerico:\n",
    "    potenza_di_2 = 2 ** numero\n",
    "    print(f\"2^{numero} =\", potenza_di_2)"
   ]
  },
  {
   "cell_type": "code",
   "execution_count": null,
   "id": "7b1f608c-b878-4a78-8259-02eba3d1dac0",
   "metadata": {},
   "outputs": [],
   "source": []
  },
  {
   "cell_type": "code",
   "execution_count": 45,
   "id": "ee2fe4f8-e60b-48fc-8513-78aa82bbcc5d",
   "metadata": {},
   "outputs": [
    {
     "name": "stdin",
     "output_type": "stream",
     "text": [
      "Inserisci il valore di cui vuoi calcolare le potenze:  10\n",
      "Inserisci il numero di quante potenze vuoi calcolare:  4\n"
     ]
    },
    {
     "name": "stdout",
     "output_type": "stream",
     "text": [
      "Lista risultante con il ciclo for: [10, 100, 1000, 10000]\n"
     ]
    }
   ],
   "source": [
    "K = int(input(\"Inserisci il valore di cui vuoi calcolare le potenze: \"))\n",
    "N = int(input(\"Inserisci il numero di quante potenze vuoi calcolare: \"))\n",
    "\n",
    "potenze = []\n",
    "for numero in range(1, N + 1):\n",
    "    potenza = K ** numero\n",
    "    potenze.append(potenza)\n",
    "\n",
    "print(\"Lista risultante con il ciclo for:\", potenze)"
   ]
  },
  {
   "cell_type": "code",
   "execution_count": 46,
   "id": "1ddd7a00-60e1-46ae-9171-7ef3e52d7bd4",
   "metadata": {},
   "outputs": [
    {
     "name": "stdin",
     "output_type": "stream",
     "text": [
      "Inserisci il valore di K:  10\n",
      "Inserisci il numero di potenze da calcolare (N):  4\n"
     ]
    },
    {
     "name": "stdout",
     "output_type": "stream",
     "text": [
      "Lista risultante con il ciclo while: [10, 100, 1000, 10000]\n"
     ]
    }
   ],
   "source": [
    "K = int(input(\"Inserisci il valore di K: \"))\n",
    "N = int(input(\"Inserisci il numero di potenze da calcolare (N): \"))\n",
    "\n",
    "potenze_while = []\n",
    "numero = 1\n",
    "while len(potenze_while) < N:\n",
    "    potenza = K ** numero\n",
    "    potenze_while.append(potenza)\n",
    "    numero += 1\n",
    "\n",
    "print(\"Lista risultante con il ciclo while:\", potenze_while)"
   ]
  },
  {
   "cell_type": "code",
   "execution_count": null,
   "id": "f791f6ad-2519-4c13-b439-b8ccc5a88317",
   "metadata": {},
   "outputs": [],
   "source": [
    "#Abbiamo una lista con i guadagni degli ultimi 12 mesi: guadagni = [100, 90, 70, 40, 50, 80, 90, 120, 80, 20, 50, 50] \n",
    "#usando un costrutto for, calcolare la media dei guadagni e stamparla a video."
   ]
  },
  {
   "cell_type": "code",
   "execution_count": 47,
   "id": "09c53ba6-8bdf-43a5-874b-3c84d683c10b",
   "metadata": {},
   "outputs": [],
   "source": [
    "guadagni = [100, 90, 70, 40, 50, 80, 90, 120, 80, 20, 50, 50]"
   ]
  },
  {
   "cell_type": "code",
   "execution_count": 48,
   "id": "4bb54447-f197-401a-b934-a7da53d25fa6",
   "metadata": {},
   "outputs": [
    {
     "name": "stdout",
     "output_type": "stream",
     "text": [
      "La media dei guadagni degli ultimi 12 mesi è: 70.0\n"
     ]
    }
   ],
   "source": [
    "totale_guadagni = 0\n",
    "for guadagno in guadagni:\n",
    "    totale_guadagni += guadagno\n",
    "\n",
    "media_guadagni = totale_guadagni / len(guadagni)\n",
    "print(\"La media dei guadagni degli ultimi 12 mesi è:\", media_guadagni)"
   ]
  },
  {
   "cell_type": "code",
   "execution_count": null,
   "id": "d288af5e-13f6-4cad-a650-e7a292da0d97",
   "metadata": {},
   "outputs": [],
   "source": [
    "#Esercizio Abbiamo una lista di parole: \n",
    "#parole = [\"Albergo\", \"Sedia\", \"Borgo\", \"Petalo\", \"Eremo\", \"Belvedere\", \"Semestre\", \"Esteta\", \"Sosta\", \"Orpello\", \"Abete\", \"Orologio\", \"Cesta\", \"Ermellino\"] stampiamo, \n",
    "#per ogni parola, quante volte appare la lettera \"e\"; \n",
    "#facciamo attenzione al fatto che appare sia maiuscola che minuscola."
   ]
  },
  {
   "cell_type": "code",
   "execution_count": 49,
   "id": "a9beba42-3242-47a2-8b39-f53f964fcb16",
   "metadata": {},
   "outputs": [
    {
     "name": "stdout",
     "output_type": "stream",
     "text": [
      "Nella parola 'Albergo' la lettera 'e' appare 1 volte.\n",
      "Nella parola 'Sedia' la lettera 'e' appare 1 volte.\n",
      "Nella parola 'Borgo' la lettera 'e' appare 0 volte.\n",
      "Nella parola 'Petalo' la lettera 'e' appare 1 volte.\n",
      "Nella parola 'Eremo' la lettera 'e' appare 2 volte.\n",
      "Nella parola 'Belvedere' la lettera 'e' appare 4 volte.\n",
      "Nella parola 'Semestre' la lettera 'e' appare 3 volte.\n",
      "Nella parola 'Esteta' la lettera 'e' appare 2 volte.\n",
      "Nella parola 'Sosta' la lettera 'e' appare 0 volte.\n",
      "Nella parola 'Orpello' la lettera 'e' appare 1 volte.\n",
      "Nella parola 'Abete' la lettera 'e' appare 2 volte.\n",
      "Nella parola 'Orologio' la lettera 'e' appare 0 volte.\n",
      "Nella parola 'Cesta' la lettera 'e' appare 1 volte.\n",
      "Nella parola 'Ermellino' la lettera 'e' appare 2 volte.\n"
     ]
    }
   ],
   "source": [
    "parole = [\"Albergo\", \"Sedia\", \"Borgo\", \"Petalo\", \"Eremo\", \"Belvedere\", \"Semestre\", \"Esteta\", \"Sosta\", \"Orpello\", \"Abete\", \"Orologio\", \"Cesta\", \"Ermellino\"]\n",
    "\n",
    "for parola in parole:\n",
    "    conteggio_e = 0\n",
    "    for lettera in parola:\n",
    "        if lettera.lower() == 'e':\n",
    "            conteggio_e += 1\n",
    "    print(f\"Nella parola '{parola}' la lettera 'e' appare {conteggio_e} volte.\")"
   ]
  },
  {
   "cell_type": "code",
   "execution_count": 50,
   "id": "eddb0402-d1b1-4040-972f-4d945b547acd",
   "metadata": {},
   "outputs": [
    {
     "name": "stdout",
     "output_type": "stream",
     "text": [
      "Dizionario proprietari_auto:\n",
      "{'Ada': 'Punto', 'Ben': 'Multipla', 'Charlie': 'Golf', 'Debbie': '107'}\n",
      "\n",
      "L'auto associata a Debbie è: 107\n"
     ]
    }
   ],
   "source": [
    "proprietari_auto = {\n",
    "    'Ada': 'Punto',\n",
    "    'Ben': 'Multipla',\n",
    "    'Charlie': 'Golf',\n",
    "    'Debbie': '107'\n",
    "}\n",
    "\n",
    "print(\"Dizionario proprietari_auto:\")\n",
    "print(proprietari_auto)\n",
    "\n",
    "auto_debbie = proprietari_auto['Debbie']\n",
    "print(\"\\nL'auto associata a Debbie è:\", auto_debbie)\n"
   ]
  },
  {
   "cell_type": "code",
   "execution_count": 51,
   "id": "cab85a5b-597a-4ebe-ac29-5271eba1883f",
   "metadata": {},
   "outputs": [
    {
     "name": "stdout",
     "output_type": "stream",
     "text": [
      "Punto\n",
      "Golf\n",
      "107\n"
     ]
    }
   ],
   "source": [
    "dizionario_auto = {\"Ada\": \"Punto\", \"Ben\": \"Multipla\", \"Charlie\": \"Golf\", \"Debbie\": \"107\"}\n",
    "\n",
    "for auto in dizionario_auto.values():\n",
    "    if auto != \"Multipla\":\n",
    "        print(auto)"
   ]
  },
  {
   "cell_type": "code",
   "execution_count": 52,
   "id": "8930f700-12ff-4cdd-8866-ecb5bf639d4f",
   "metadata": {},
   "outputs": [
    {
     "name": "stdout",
     "output_type": "stream",
     "text": [
      "Dizionario aggiornato:\n",
      "{'Ada': 'Punto', 'Ben': 'Polo', 'Charlie': 'Golf', 'Debbie': '107', 'Emily': 'A1', 'Fred': 'Octavia', 'Grace': 'Yaris', 'Hugh': 'Clio'}\n"
     ]
    }
   ],
   "source": [
    "dizionario_auto = {\"Ada\": \"Punto\", \"Ben\": \"Multipla\", \"Charlie\": \"Golf\", \"Debbie\": \"107\", \"Emily\": \"A1\"}\n",
    "nuovi_proprietari = {\"Ben\": \"Polo\", \"Fred\": \"Octavia\", \"Grace\": \"Yaris\", \"Hugh\": \"Clio\"}\n",
    "\n",
    "dizionario_auto.update(nuovi_proprietari)\n",
    "\n",
    "print(\"Dizionario aggiornato:\")\n",
    "print(dizionario_auto)"
   ]
  },
  {
   "cell_type": "code",
   "execution_count": null,
   "id": "463f6179-3ef3-4e81-8399-bc9c25f5141c",
   "metadata": {},
   "outputs": [],
   "source": [
    "#Scrivere un programma che, data una lista di numeri, \n",
    "#fornisca in output il minimo e il massimo (possiamo usare o meno le funzioni built-in min() e max())."
   ]
  },
  {
   "cell_type": "code",
   "execution_count": 53,
   "id": "68dcebd3-10d6-498f-be3f-05dffead19c3",
   "metadata": {},
   "outputs": [
    {
     "name": "stdout",
     "output_type": "stream",
     "text": [
      "Il valore minimo è: 1\n",
      "Il valore massimo è: 9\n"
     ]
    }
   ],
   "source": [
    "numeri = [5, 3, 9, 1, 7, 4, 2, 8, 6]\n",
    "minimo = numeri[0]\n",
    "massimo = numeri[0]\n",
    "for numero in numeri[1:]:\n",
    "    if numero < minimo:\n",
    "        minimo = numero\n",
    "    elif numero > massimo:\n",
    "        massimo = numero\n",
    "print(\"Il valore minimo è:\", minimo)\n",
    "print(\"Il valore massimo è:\", massimo)\n"
   ]
  },
  {
   "cell_type": "code",
   "execution_count": null,
   "id": "c8d6c515-0208-4b5e-97ea-031ce3da77c9",
   "metadata": {},
   "outputs": [],
   "source": []
  }
 ],
 "metadata": {
  "kernelspec": {
   "display_name": "Python 3 (ipykernel)",
   "language": "python",
   "name": "python3"
  },
  "language_info": {
   "codemirror_mode": {
    "name": "ipython",
    "version": 3
   },
   "file_extension": ".py",
   "mimetype": "text/x-python",
   "name": "python",
   "nbconvert_exporter": "python",
   "pygments_lexer": "ipython3",
   "version": "3.11.7"
  }
 },
 "nbformat": 4,
 "nbformat_minor": 5
}
