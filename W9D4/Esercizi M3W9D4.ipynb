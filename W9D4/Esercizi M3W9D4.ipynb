{
 "cells": [
  {
   "cell_type": "code",
   "execution_count": 4,
   "id": "005980f3-8d4e-4871-b063-653246ae88e7",
   "metadata": {},
   "outputs": [],
   "source": [
    "nome_scuola = \"Epicode\""
   ]
  },
  {
   "cell_type": "code",
   "execution_count": 5,
   "id": "8ad120ca-fc9e-4a15-be00-32fc62e1c48e",
   "metadata": {},
   "outputs": [],
   "source": [
    "i = 0"
   ]
  },
  {
   "cell_type": "code",
   "execution_count": 6,
   "id": "4f9a5cd3-ca65-4ae3-a907-21195d38e9f4",
   "metadata": {},
   "outputs": [
    {
     "name": "stdout",
     "output_type": "stream",
     "text": [
      "E\n",
      "p\n",
      "i\n",
      "c\n",
      "o\n",
      "d\n",
      "e\n"
     ]
    }
   ],
   "source": [
    "while i < len(nome_scuola):\n",
    "    print(nome_scuola[i])\n",
    "    i += 1"
   ]
  },
  {
   "cell_type": "code",
   "execution_count": null,
   "id": "0852012f-398a-43d5-849f-747518116904",
   "metadata": {},
   "outputs": [],
   "source": [
    "# Stampare a video tutti i numeri da 0 a 20 utilizzando il costrutto while."
   ]
  },
  {
   "cell_type": "code",
   "execution_count": 9,
   "id": "de28f84e-4469-4535-bae4-d123cbc3aca1",
   "metadata": {},
   "outputs": [
    {
     "name": "stdout",
     "output_type": "stream",
     "text": [
      "0\n",
      "1\n",
      "2\n",
      "3\n",
      "4\n",
      "5\n",
      "6\n",
      "7\n",
      "8\n",
      "9\n",
      "10\n",
      "11\n",
      "12\n",
      "13\n",
      "14\n",
      "15\n",
      "16\n",
      "17\n",
      "18\n",
      "19\n",
      "20\n"
     ]
    }
   ],
   "source": [
    "i = 0\n",
    "while i <= 20 : \n",
    "    print (i)\n",
    "    i += 1"
   ]
  },
  {
   "cell_type": "code",
   "execution_count": null,
   "id": "18957816-5dc5-4b01-847a-cb754fdd9a61",
   "metadata": {},
   "outputs": [],
   "source": [
    "#Calcolare e stampare tutte le prime 10 potenze di 2 (e.g., 2⁰, 2¹, 2², …) utilizzando un ciclo while."
   ]
  },
  {
   "cell_type": "code",
   "execution_count": 12,
   "id": "aca649f4-828f-445c-b7f3-5423cc938850",
   "metadata": {},
   "outputs": [
    {
     "name": "stdout",
     "output_type": "stream",
     "text": [
      "2^0 = 1\n",
      "2^1 = 2\n",
      "2^2 = 4\n",
      "2^3 = 8\n",
      "2^4 = 16\n",
      "2^5 = 32\n",
      "2^6 = 64\n",
      "2^7 = 128\n",
      "2^8 = 256\n",
      "2^9 = 512\n",
      "2^10 = 1024\n"
     ]
    }
   ],
   "source": [
    "esponente = 0\n",
    "risultato = 1\n",
    "while esponente <= 10:\n",
    "    print(f\"2^{esponente} =\", risultato)\n",
    "    risultato *= 2\n",
    "    esponente += 1"
   ]
  },
  {
   "cell_type": "code",
   "execution_count": 13,
   "id": "b7af57da-f0a1-4eb9-985b-a1f22eee9621",
   "metadata": {},
   "outputs": [],
   "source": [
    "# Calcolare e stampare tutte le prime N potenze di 2 utilizzando un ciclo while, domandando all'utente di inserire N."
   ]
  },
  {
   "cell_type": "code",
   "execution_count": 17,
   "id": "c0f0dbf6-4d99-4037-8030-42b3e1f6d998",
   "metadata": {},
   "outputs": [
    {
     "name": "stdin",
     "output_type": "stream",
     "text": [
      "Inserisci il numero di potenze di 2 da calcolare:  10\n"
     ]
    },
    {
     "name": "stdout",
     "output_type": "stream",
     "text": [
      "2^0 = 1\n",
      "2^1 = 2\n",
      "2^2 = 4\n",
      "2^3 = 8\n",
      "2^4 = 16\n",
      "2^5 = 32\n",
      "2^6 = 64\n",
      "2^7 = 128\n",
      "2^8 = 256\n",
      "2^9 = 512\n",
      "2^10 = 1024\n"
     ]
    }
   ],
   "source": [
    "N = int(input(\"Inserisci il numero di potenze di 2 da calcolare: \"))\n",
    "\n",
    "esponente = 0\n",
    "risultato = 1\n",
    "conteggio = 0\n",
    "\n",
    "while conteggio <= N:\n",
    "    print(f\"2^{esponente} =\", risultato)\n",
    "    risultato *= 2\n",
    "    esponente += 1\n",
    "    conteggio += 1"
   ]
  },
  {
   "cell_type": "code",
   "execution_count": null,
   "id": "70fa5abd-378a-4bdb-9d06-1b61564e20ac",
   "metadata": {},
   "outputs": [],
   "source": [
    "# Calcolare e stampare tutte le potenze di 2 minori di 25000."
   ]
  },
  {
   "cell_type": "code",
   "execution_count": 18,
   "id": "ce498ab6-760a-4977-a352-aba3a2726f2e",
   "metadata": {},
   "outputs": [
    {
     "name": "stdout",
     "output_type": "stream",
     "text": [
      "2^0 = 1\n",
      "2^1 = 2\n",
      "2^2 = 4\n",
      "2^3 = 8\n",
      "2^4 = 16\n",
      "2^5 = 32\n",
      "2^6 = 64\n",
      "2^7 = 128\n",
      "2^8 = 256\n",
      "2^9 = 512\n",
      "2^10 = 1024\n",
      "2^11 = 2048\n",
      "2^12 = 4096\n",
      "2^13 = 8192\n",
      "2^14 = 16384\n"
     ]
    }
   ],
   "source": [
    "esponente = 0\n",
    "risultato = 1\n",
    "\n",
    "while risultato < 25000:\n",
    "    print(f\"2^{esponente} =\", risultato)\n",
    "    risultato *= 2\n",
    "    esponente += 1"
   ]
  },
  {
   "cell_type": "code",
   "execution_count": 19,
   "id": "19901551-8e38-4450-8c1e-93a1b5315b47",
   "metadata": {},
   "outputs": [],
   "source": [
    "studenti = [\"Alex\", \"Bob\", \"Cindy\", \"Dan\", \"Emma\", \"Faith\", \"Grace\", \"Henry\"] \n",
    "corsi = [\"Cybersecurity\", \"Data Analyst\", \"Backend\", \"Frontend\", \"Data Analyst\", \"Backend\"]"
   ]
  },
  {
   "cell_type": "code",
   "execution_count": 21,
   "id": "db506cf9-83eb-4525-8b2a-6b2f834edc0d",
   "metadata": {},
   "outputs": [],
   "source": [
    "#Aggiungere i dati mancanti alla lista corsi, \n",
    "#sapendo che Emma segue Data Analyst \n",
    "#Faith segue Backend \n",
    "#Grace segue Frontend \n",
    "#Henry segue Cybersecurity \n",
    "#Aggiungeremo i dati mancanti uno alla volta con il metodo per appendere in coda alle liste, \n",
    "#poi verificheremo che sono della stessa lunghezza e  se lo sono stamperemo la lista corsi. \n",
    "#Se alcuni dati sono già presenti non vanno aggiunti di nuovo"
   ]
  },
  {
   "cell_type": "code",
   "execution_count": 22,
   "id": "fa4b2b50-da6b-43d2-8c79-0111a3372db7",
   "metadata": {},
   "outputs": [],
   "source": [
    "# Aggiungi i dati mancanti alla lista corsi\n",
    "if \"Cybersecurity\" not in corsi:\n",
    "    corsi.append(\"Cybersecurity\")\n",
    "elif \"Data Analyst\" not in corsi:\n",
    "    corsi.append(\"Data Analyst\")\n",
    "elif \"Backend\" not in corsi:\n",
    "    corsi.append(\"Backend\")\n",
    "elif \"Frontend\" not in corsi:\n",
    "    corsi.append(\"Frontend\")\n",
    "\n",
    "# Verifica che le liste siano della stessa lunghezza e stampa la lista corsi se lo sono\n",
    "if len(studenti) == len(corsi):\n",
    "    print(corsi)"
   ]
  },
  {
   "cell_type": "code",
   "execution_count": 23,
   "id": "786d5493-88fb-4aa5-9c3c-efec82424e29",
   "metadata": {},
   "outputs": [
    {
     "data": {
      "text/plain": [
       "['Cybersecurity',\n",
       " 'Data Analyst',\n",
       " 'Backend',\n",
       " 'Frontend',\n",
       " 'Data Analyst',\n",
       " 'Backend']"
      ]
     },
     "execution_count": 23,
     "metadata": {},
     "output_type": "execute_result"
    }
   ],
   "source": [
    "corsi"
   ]
  },
  {
   "cell_type": "code",
   "execution_count": 24,
   "id": "03eda644-ca55-4f04-a178-e165a6b9e4df",
   "metadata": {},
   "outputs": [
    {
     "data": {
      "text/plain": [
       "['Alex', 'Bob', 'Cindy', 'Dan', 'Emma', 'Faith', 'Grace', 'Henry']"
      ]
     },
     "execution_count": 24,
     "metadata": {},
     "output_type": "execute_result"
    }
   ],
   "source": [
    "studenti"
   ]
  },
  {
   "cell_type": "code",
   "execution_count": 26,
   "id": "cb103641-f71b-466e-a392-256111f75bf3",
   "metadata": {},
   "outputs": [],
   "source": [
    "#Scriviamo un programma che chiede in input all'utente una stringa e visualizza i primi 3 caratteri, \n",
    "#seguiti da 3 punti di sospensione e quindi gli ultimi 3 caratteri, \n",
    "#similmente all'esercizio della lezione scorsa."
   ]
  },
  {
   "cell_type": "code",
   "execution_count": 31,
   "id": "381e2fcc-9289-4fbe-a89e-09451f0bb1b6",
   "metadata": {},
   "outputs": [
    {
     "name": "stdin",
     "output_type": "stream",
     "text": [
      "Inserisci una stringa:  finalmente\n"
     ]
    },
    {
     "name": "stdout",
     "output_type": "stream",
     "text": [
      "fin...nte\n"
     ]
    }
   ],
   "source": [
    "stringa = input(\"Inserisci una stringa: \")\n",
    "lunghezza = len(stringa)\n",
    "if lunghezza <= 6:\n",
    "    print(\"La stringa è troppo corta.\")\n",
    "else:\n",
    "    primi_3 = stringa[:3] \n",
    "    ultimi_3 = stringa[-3:]\n",
    "    \n",
    "    print(primi_3 + \"...\" + ultimi_3)\n"
   ]
  },
  {
   "cell_type": "code",
   "execution_count": null,
   "id": "45575fab-6d1a-4463-8452-704b44b71705",
   "metadata": {},
   "outputs": [],
   "source": [
    "#Memorizza e stampa tutti i fattori di un numero dato in input. Esempio: • input: 150 • output: [2, 3, 5, 5]"
   ]
  },
  {
   "cell_type": "code",
   "execution_count": 39,
   "id": "84cb8a6c-102d-4c8c-9e3a-7eae07753d4a",
   "metadata": {},
   "outputs": [
    {
     "name": "stdin",
     "output_type": "stream",
     "text": [
      "Inserisci il numero di cui vuoi trovare i fattori: 10\n"
     ]
    },
    {
     "name": "stdout",
     "output_type": "stream",
     "text": [
      "I fattori di 10 sono: [1, 2, 5, 10]\n"
     ]
    }
   ],
   "source": [
    "n = int(input(\"Inserisci il numero di cui vuoi trovare i fattori:\"))\n",
    "fattori = []\n",
    "i = 1\n",
    "while i <= n:\n",
    "    if n % i == 0:\n",
    "        fattori.append(i)\n",
    "    i += 1\n",
    "print(\"I fattori di\", n, \"sono:\", fattori)"
   ]
  },
  {
   "cell_type": "code",
   "execution_count": null,
   "id": "64566540-290d-43b8-8ebc-cc4c69a81daf",
   "metadata": {},
   "outputs": [],
   "source": [
    "# Abbiamo la stringa: nome_scuola = \"Epicode\" Stampare ogni carattere della stringa, uno su ogni riga, utilizzando un costrutto for."
   ]
  },
  {
   "cell_type": "code",
   "execution_count": 40,
   "id": "49eeecdd-9585-41b3-84ef-8a5fc38ebf67",
   "metadata": {},
   "outputs": [
    {
     "name": "stdout",
     "output_type": "stream",
     "text": [
      "E\n",
      "p\n",
      "i\n",
      "c\n",
      "o\n",
      "d\n",
      "e\n"
     ]
    }
   ],
   "source": [
    "nome_scuola = \"Epicode\"\n",
    "\n",
    "for carattere in nome_scuola:\n",
    "    print(carattere)"
   ]
  },
  {
   "cell_type": "code",
   "execution_count": null,
   "id": "741f7720-878a-4722-abf0-7843bd66e4cb",
   "metadata": {},
   "outputs": [],
   "source": [
    "# Calcolare e stampare tutte le prime 10 potenze di 2 utilizzando un ciclo. Utilizzeremo: • un ciclo per generare i primi 10 numeri, e.g."
   ]
  },
  {
   "cell_type": "code",
   "execution_count": 41,
   "id": "7aa2f90a-64f2-4a4b-b93f-5818f201ef81",
   "metadata": {},
   "outputs": [
    {
     "name": "stdout",
     "output_type": "stream",
     "text": [
      "2^1 = 2\n",
      "2^2 = 4\n",
      "2^3 = 8\n",
      "2^4 = 16\n",
      "2^5 = 32\n",
      "2^6 = 64\n",
      "2^7 = 128\n",
      "2^8 = 256\n",
      "2^9 = 512\n",
      "2^10 = 1024\n"
     ]
    }
   ],
   "source": [
    "range_numerico = list()  # inizializza la lista dei numeri\n",
    "num = 1  # inizializza il contatore\n",
    "\n",
    "# Ciclo per generare i primi 10 numeri\n",
    "while num <= 10:\n",
    "    range_numerico.append(num)\n",
    "    num += 1\n",
    "\n",
    "# Calcola e stampa le prime 10 potenze di 2\n",
    "for numero in range_numerico:\n",
    "    potenza_di_2 = 2 ** numero\n",
    "    print(f\"2^{numero} =\", potenza_di_2)"
   ]
  },
  {
   "cell_type": "code",
   "execution_count": null,
   "id": "7b1f608c-b878-4a78-8259-02eba3d1dac0",
   "metadata": {},
   "outputs": [],
   "source": []
  },
  {
   "cell_type": "code",
   "execution_count": 45,
   "id": "ee2fe4f8-e60b-48fc-8513-78aa82bbcc5d",
   "metadata": {},
   "outputs": [
    {
     "name": "stdin",
     "output_type": "stream",
     "text": [
      "Inserisci il valore di cui vuoi calcolare le potenze:  10\n",
      "Inserisci il numero di quante potenze vuoi calcolare:  4\n"
     ]
    },
    {
     "name": "stdout",
     "output_type": "stream",
     "text": [
      "Lista risultante con il ciclo for: [10, 100, 1000, 10000]\n"
     ]
    }
   ],
   "source": [
    "K = int(input(\"Inserisci il valore di cui vuoi calcolare le potenze: \"))\n",
    "N = int(input(\"Inserisci il numero di quante potenze vuoi calcolare: \"))\n",
    "\n",
    "potenze = []\n",
    "for numero in range(1, N + 1):\n",
    "    potenza = K ** numero\n",
    "    potenze.append(potenza)\n",
    "\n",
    "print(\"Lista risultante con il ciclo for:\", potenze)"
   ]
  },
  {
   "cell_type": "code",
   "execution_count": 46,
   "id": "1ddd7a00-60e1-46ae-9171-7ef3e52d7bd4",
   "metadata": {},
   "outputs": [
    {
     "name": "stdin",
     "output_type": "stream",
     "text": [
      "Inserisci il valore di K:  10\n",
      "Inserisci il numero di potenze da calcolare (N):  4\n"
     ]
    },
    {
     "name": "stdout",
     "output_type": "stream",
     "text": [
      "Lista risultante con il ciclo while: [10, 100, 1000, 10000]\n"
     ]
    }
   ],
   "source": [
    "K = int(input(\"Inserisci il valore di K: \"))\n",
    "N = int(input(\"Inserisci il numero di potenze da calcolare (N): \"))\n",
    "\n",
    "potenze_while = []\n",
    "numero = 1\n",
    "while len(potenze_while) < N:\n",
    "    potenza = K ** numero\n",
    "    potenze_while.append(potenza)\n",
    "    numero += 1\n",
    "\n",
    "print(\"Lista risultante con il ciclo while:\", potenze_while)"
   ]
  },
  {
   "cell_type": "code",
   "execution_count": null,
   "id": "f791f6ad-2519-4c13-b439-b8ccc5a88317",
   "metadata": {},
   "outputs": [],
   "source": [
    "#Abbiamo una lista con i guadagni degli ultimi 12 mesi: guadagni = [100, 90, 70, 40, 50, 80, 90, 120, 80, 20, 50, 50] \n",
    "#usando un costrutto for, calcolare la media dei guadagni e stamparla a video."
   ]
  },
  {
   "cell_type": "code",
   "execution_count": 47,
   "id": "09c53ba6-8bdf-43a5-874b-3c84d683c10b",
   "metadata": {},
   "outputs": [],
   "source": [
    "guadagni = [100, 90, 70, 40, 50, 80, 90, 120, 80, 20, 50, 50]"
   ]
  },
  {
   "cell_type": "code",
   "execution_count": 48,
   "id": "4bb54447-f197-401a-b934-a7da53d25fa6",
   "metadata": {},
   "outputs": [
    {
     "name": "stdout",
     "output_type": "stream",
     "text": [
      "La media dei guadagni degli ultimi 12 mesi è: 70.0\n"
     ]
    }
   ],
   "source": [
    "totale_guadagni = 0\n",
    "for guadagno in guadagni:\n",
    "    totale_guadagni += guadagno\n",
    "\n",
    "media_guadagni = totale_guadagni / len(guadagni)\n",
    "print(\"La media dei guadagni degli ultimi 12 mesi è:\", media_guadagni)"
   ]
  },
  {
   "cell_type": "code",
   "execution_count": null,
   "id": "d288af5e-13f6-4cad-a650-e7a292da0d97",
   "metadata": {},
   "outputs": [],
   "source": [
    "#Esercizio Abbiamo una lista di parole: \n",
    "#parole = [\"Albergo\", \"Sedia\", \"Borgo\", \"Petalo\", \"Eremo\", \"Belvedere\", \"Semestre\", \"Esteta\", \"Sosta\", \"Orpello\", \"Abete\", \"Orologio\", \"Cesta\", \"Ermellino\"] stampiamo, \n",
    "#per ogni parola, quante volte appare la lettera \"e\"; \n",
    "#facciamo attenzione al fatto che appare sia maiuscola che minuscola."
   ]
  },
  {
   "cell_type": "code",
   "execution_count": 49,
   "id": "a9beba42-3242-47a2-8b39-f53f964fcb16",
   "metadata": {},
   "outputs": [
    {
     "name": "stdout",
     "output_type": "stream",
     "text": [
      "Nella parola 'Albergo' la lettera 'e' appare 1 volte.\n",
      "Nella parola 'Sedia' la lettera 'e' appare 1 volte.\n",
      "Nella parola 'Borgo' la lettera 'e' appare 0 volte.\n",
      "Nella parola 'Petalo' la lettera 'e' appare 1 volte.\n",
      "Nella parola 'Eremo' la lettera 'e' appare 2 volte.\n",
      "Nella parola 'Belvedere' la lettera 'e' appare 4 volte.\n",
      "Nella parola 'Semestre' la lettera 'e' appare 3 volte.\n",
      "Nella parola 'Esteta' la lettera 'e' appare 2 volte.\n",
      "Nella parola 'Sosta' la lettera 'e' appare 0 volte.\n",
      "Nella parola 'Orpello' la lettera 'e' appare 1 volte.\n",
      "Nella parola 'Abete' la lettera 'e' appare 2 volte.\n",
      "Nella parola 'Orologio' la lettera 'e' appare 0 volte.\n",
      "Nella parola 'Cesta' la lettera 'e' appare 1 volte.\n",
      "Nella parola 'Ermellino' la lettera 'e' appare 2 volte.\n"
     ]
    }
   ],
   "source": [
    "parole = [\"Albergo\", \"Sedia\", \"Borgo\", \"Petalo\", \"Eremo\", \"Belvedere\", \"Semestre\", \"Esteta\", \"Sosta\", \"Orpello\", \"Abete\", \"Orologio\", \"Cesta\", \"Ermellino\"]\n",
    "\n",
    "for parola in parole:\n",
    "    conteggio_e = 0\n",
    "    for lettera in parola:\n",
    "        if lettera.lower() == 'e':\n",
    "            conteggio_e += 1\n",
    "    print(f\"Nella parola '{parola}' la lettera 'e' appare {conteggio_e} volte.\")"
   ]
  },
  {
   "cell_type": "code",
   "execution_count": 50,
   "id": "eddb0402-d1b1-4040-972f-4d945b547acd",
   "metadata": {},
   "outputs": [
    {
     "name": "stdout",
     "output_type": "stream",
     "text": [
      "Dizionario proprietari_auto:\n",
      "{'Ada': 'Punto', 'Ben': 'Multipla', 'Charlie': 'Golf', 'Debbie': '107'}\n",
      "\n",
      "L'auto associata a Debbie è: 107\n"
     ]
    }
   ],
   "source": [
    "proprietari_auto = {\n",
    "    'Ada': 'Punto',\n",
    "    'Ben': 'Multipla',\n",
    "    'Charlie': 'Golf',\n",
    "    'Debbie': '107'\n",
    "}\n",
    "\n",
    "print(\"Dizionario proprietari_auto:\")\n",
    "print(proprietari_auto)\n",
    "\n",
    "auto_debbie = proprietari_auto['Debbie']\n",
    "print(\"\\nL'auto associata a Debbie è:\", auto_debbie)\n"
   ]
  },
  {
   "cell_type": "code",
   "execution_count": 51,
   "id": "cab85a5b-597a-4ebe-ac29-5271eba1883f",
   "metadata": {},
   "outputs": [
    {
     "name": "stdout",
     "output_type": "stream",
     "text": [
      "Punto\n",
      "Golf\n",
      "107\n"
     ]
    }
   ],
   "source": [
    "dizionario_auto = {\"Ada\": \"Punto\", \"Ben\": \"Multipla\", \"Charlie\": \"Golf\", \"Debbie\": \"107\"}\n",
    "\n",
    "for auto in dizionario_auto.values():\n",
    "    if auto != \"Multipla\":\n",
    "        print(auto)"
   ]
  },
  {
   "cell_type": "code",
   "execution_count": 52,
   "id": "8930f700-12ff-4cdd-8866-ecb5bf639d4f",
   "metadata": {},
   "outputs": [
    {
     "name": "stdout",
     "output_type": "stream",
     "text": [
      "Dizionario aggiornato:\n",
      "{'Ada': 'Punto', 'Ben': 'Polo', 'Charlie': 'Golf', 'Debbie': '107', 'Emily': 'A1', 'Fred': 'Octavia', 'Grace': 'Yaris', 'Hugh': 'Clio'}\n"
     ]
    }
   ],
   "source": [
    "dizionario_auto = {\"Ada\": \"Punto\", \"Ben\": \"Multipla\", \"Charlie\": \"Golf\", \"Debbie\": \"107\", \"Emily\": \"A1\"}\n",
    "nuovi_proprietari = {\"Ben\": \"Polo\", \"Fred\": \"Octavia\", \"Grace\": \"Yaris\", \"Hugh\": \"Clio\"}\n",
    "\n",
    "dizionario_auto.update(nuovi_proprietari)\n",
    "\n",
    "print(\"Dizionario aggiornato:\")\n",
    "print(dizionario_auto)"
   ]
  },
  {
   "cell_type": "code",
   "execution_count": null,
   "id": "463f6179-3ef3-4e81-8399-bc9c25f5141c",
   "metadata": {},
   "outputs": [],
   "source": [
    "#Scrivere un programma che, data una lista di numeri, \n",
    "#fornisca in output il minimo e il massimo (possiamo usare o meno le funzioni built-in min() e max())."
   ]
  },
  {
   "cell_type": "code",
   "execution_count": 53,
   "id": "68dcebd3-10d6-498f-be3f-05dffead19c3",
   "metadata": {},
   "outputs": [
    {
     "name": "stdout",
     "output_type": "stream",
     "text": [
      "Il valore minimo è: 1\n",
      "Il valore massimo è: 9\n"
     ]
    }
   ],
   "source": [
    "numeri = [5, 3, 9, 1, 7, 4, 2, 8, 6]\n",
    "minimo = numeri[0]\n",
    "massimo = numeri[0]\n",
    "for numero in numeri[1:]:\n",
    "    if numero < minimo:\n",
    "        minimo = numero\n",
    "    elif numero > massimo:\n",
    "        massimo = numero\n",
    "print(\"Il valore minimo è:\", minimo)\n",
    "print(\"Il valore massimo è:\", massimo)\n"
   ]
  },
  {
   "cell_type": "code",
   "execution_count": 1,
   "id": "c8d6c515-0208-4b5e-97ea-031ce3da77c9",
   "metadata": {},
   "outputs": [],
   "source": [
    "#Scrivere un programma che, data una lista di numeri, fornisca in output i tre numeri più grandi; \n",
    "#gestire il caso in cui la lista sia più corta di tre, e quando uno o più dei numeri selezionati sono uguali."
   ]
  },
  {
   "cell_type": "code",
   "execution_count": 3,
   "id": "03e0948a-3dfa-4ae4-bc38-16efc3f1d93b",
   "metadata": {},
   "outputs": [
    {
     "name": "stdout",
     "output_type": "stream",
     "text": [
      "I tre numeri più grandi sono: [20, 20, 15]\n"
     ]
    }
   ],
   "source": [
    "# Trova i tre numeri più grandi\n",
    "numbers = [10, 5, 8, 20, 15, 10, 20]\n",
    "\n",
    "if len(numbers) <= 3:\n",
    "    largest_numbers = sorted(numbers, reverse=True)\n",
    "else:\n",
    "    sorted_numbers = sorted(numbers, reverse=True)\n",
    "    largest_numbers = sorted_numbers[:3]\n",
    "\n",
    "# Stampare i risultati\n",
    "print(\"I tre numeri più grandi sono:\", largest_numbers)\n"
   ]
  },
  {
   "cell_type": "code",
   "execution_count": 6,
   "id": "c8252a4e-c771-4f9d-8698-6514f861f052",
   "metadata": {},
   "outputs": [],
   "source": [
    "#Scrivere un programma che • in input acquisisce una lista di numeri e un numero K •\n",
    "#in output, dovrà restituire la media di tutti i numeri nella lista maggiori o uguali a K • \n",
    "#se non ce ne dovesse essere nessuno, dovrà stampare a schermo un messaggio adeguato."
   ]
  },
  {
   "cell_type": "code",
   "execution_count": 9,
   "id": "8d99a3af-6452-4b9d-921f-eda6986f71a3",
   "metadata": {},
   "outputs": [
    {
     "name": "stdin",
     "output_type": "stream",
     "text": [
      "Inserisci una lista di numeri separati da spazi:  1 2 3 4 5 6 7 8 9\n",
      "Inserisci il numero K:  20\n"
     ]
    },
    {
     "name": "stdout",
     "output_type": "stream",
     "text": [
      "Non ci sono numeri maggiori o uguali a 20\n"
     ]
    }
   ],
   "source": [
    "# Input della lista di numeri e di K\n",
    "lista_numeri = input(\"Inserisci una lista di numeri separati da spazi: \").split()\n",
    "lista_numeri = [int(num) for num in lista_numeri]\n",
    "K = int(input(\"Inserisci il numero K: \"))\n",
    "\n",
    "# Inizializza la somma e il conteggio dei numeri maggiori o uguali a K\n",
    "somma = 0\n",
    "conteggio = 0\n",
    "\n",
    "# Calcola la somma dei numeri maggiori o uguali a K e conta quanti sono\n",
    "for numero in lista_numeri:\n",
    "    if numero >= K:\n",
    "        somma += numero\n",
    "        conteggio += 1\n",
    "\n",
    "# Se non ci sono numeri maggiori o uguali a K, stampa un messaggio\n",
    "if conteggio == 0:\n",
    "    print(\"Non ci sono numeri maggiori o uguali a\", K)\n",
    "else:\n",
    "    # Calcola e stampa la media\n",
    "    media = somma / conteggio\n",
    "    print(\"La media dei numeri maggiori o uguali a\", K, \"è:\", media)"
   ]
  },
  {
   "cell_type": "code",
   "execution_count": null,
   "id": "dcde12da-8d4b-441a-8c98-e2a3a52d1e91",
   "metadata": {},
   "outputs": [],
   "source": [
    "#Scrivere un programma che, data una lista di numeri, come output stamperà lo stesso numero di asterischi su righe diverse, \n",
    "#ottenendo una semplice visualizzazione grafica \n",
    "#Esempio, supponendo di avere il seguente input: numeri = [5, 2, 3, 4] L'output sarà: ***** ** *** ****"
   ]
  },
  {
   "cell_type": "code",
   "execution_count": 12,
   "id": "5e9beb7c-37e0-425e-bd22-203bbad22e9a",
   "metadata": {},
   "outputs": [
    {
     "name": "stdout",
     "output_type": "stream",
     "text": [
      "***** = 5\n",
      "** = 2\n",
      "*** = 3\n",
      "**** = 4\n"
     ]
    }
   ],
   "source": [
    "# Lista di numeri di esempio\n",
    "numeri = [5, 2, 3, 4]\n",
    "\n",
    "# Stampare asterischi per ogni numero nella lista\n",
    "for num in numeri:\n",
    "    print('*' * num, \"=\", num)\n",
    "\n"
   ]
  },
  {
   "cell_type": "code",
   "execution_count": null,
   "id": "8fb3fee1-3da4-4558-a20e-11fc3b446404",
   "metadata": {},
   "outputs": [],
   "source": [
    "#Abbiamo una lista di codici fiscali: lista_cf = [\"ABCDEF95G01A123B\", \"GHIJKL91M02A321C\", \"MNOPQR89S03A456D\", \"STUVWX95Z04A654E\", \n",
    "#\"XYZABC01D05A789F\", \"DEFGHI95J06A987G\"] \n",
    "#• trovare i codici fiscali che contengono \"95\", metterli in una lista, e alla fine stamparla; \n",
    "#• inoltre, per ognuno di essi, stampare a video i caratteri relativi al nome e quelli relativi al cognome.25 "
   ]
  },
  {
   "cell_type": "code",
   "execution_count": 14,
   "id": "0ccfcf3f-21c5-4cb5-be08-c148aeda48e0",
   "metadata": {},
   "outputs": [
    {
     "name": "stdout",
     "output_type": "stream",
     "text": [
      "Codici fiscali contenenti '95':\n",
      "ABCDEF95G01A123B\n",
      "STUVWX95Z04A654E\n",
      "DEFGHI95J06A987G\n",
      "\n",
      "Nome e Cognome:\n",
      "Nome: ABC\n",
      "Cognome: DEF\n",
      "\n",
      "Nome: STU\n",
      "Cognome: VWX\n",
      "\n",
      "Nome: DEF\n",
      "Cognome: GHI\n",
      "\n"
     ]
    }
   ],
   "source": [
    "# Lista dei codici fiscali\n",
    "lista_cf = [\"ABCDEF95G01A123B\", \"GHIJKL91M02A321C\", \"MNOPQR89S03A456D\", \"STUVWX95Z04A654E\", \"XYZABC01D05A789F\", \"DEFGHI95J06A987G\"]\n",
    "\n",
    "# Trova i codici fiscali che contengono \"95\" e mettili in una lista\n",
    "cf_con_95 = []\n",
    "for cf in lista_cf:\n",
    "    if \"95\" in cf:\n",
    "        cf_con_95.append(cf)\n",
    "\n",
    "# Stampa i codici fiscali che contengono \"95\"\n",
    "print(\"Codici fiscali contenenti '95':\")\n",
    "for cf in cf_con_95:\n",
    "    print(cf)\n",
    "\n",
    "# Stampa il nome e il cognome per ogni codice fiscale che contiene \"95\"\n",
    "print(\"\\nNome e Cognome:\")\n",
    "for cf in cf_con_95:\n",
    "    # Estrarre il nome e il cognome dai codici fiscali\n",
    "    nome = \"\"\n",
    "    cognome = \"\"\n",
    "    for i in range(3):\n",
    "        nome += cf[i]\n",
    "    for i in range(3, 6):\n",
    "        cognome += cf[i]\n",
    "    print(\"Nome:\", nome)\n",
    "    print(\"Cognome:\", cognome)\n",
    "    print()  # Aggiungiamo una riga vuota tra ogni coppia di nome e cognome\n"
   ]
  },
  {
   "cell_type": "code",
   "execution_count": null,
   "id": "e6b04466-622c-4aff-a68f-65dba894649e",
   "metadata": {},
   "outputs": [],
   "source": [
    "#Esercizio Abbiamo tre liste della stessa lunghezza, dove ogni elemento nella medesima posizione si riferisce ai dati dello stesso studente:\n",
    "#• Stampare a video tutti e soli gli studenti che frequentano una prima edizione; non tutti i dati potrebbero essere necessari. \n",
    "#• Riuscite a vedere una similarità con la logica che si usa in SQL e le tabelle relazionali?"
   ]
  },
  {
   "cell_type": "code",
   "execution_count": 15,
   "id": "9bf4ff66-006b-4d72-b5c5-b7704c716809",
   "metadata": {},
   "outputs": [
    {
     "name": "stdout",
     "output_type": "stream",
     "text": [
      "Studenti che frequentano la prima edizione:\n",
      "Alex\n",
      "Faith\n"
     ]
    }
   ],
   "source": [
    "# Liste degli studenti, corsi ed edizioni\n",
    "studenti = [\"Alex\", \"Bob\", \"Cindy\", \"Dan\", \"Emma\", \"Faith\", \"Grace\", \"Henry\"]\n",
    "corsi = [\"Cybersecurity\", \"Data Analyst\", \"Backend\", \"Frontend\", \"Data Analyst\", \"Backend\", \"Frontend\", \"Cybersecurity\"]\n",
    "edizioni = [1, 2, 3, 2, 2, 1, 3, 3]\n",
    "\n",
    "# Stampare gli studenti che frequentano una prima edizione\n",
    "print(\"Studenti che frequentano la prima edizione:\")\n",
    "for i in range(len(studenti)):\n",
    "    if edizioni[i] == 1:\n",
    "        print(studenti[i])"
   ]
  },
  {
   "cell_type": "code",
   "execution_count": 16,
   "id": "4f6bae9c-dacd-4735-8083-d8d67a7ce437",
   "metadata": {},
   "outputs": [],
   "source": [
    "#Esercizio Abbiamo una lista di stringhe di prezzi in dollari, che erroneamente sono stati scritti con il simbolo dell'euro: \n",
    "#prezzi = [\"100 €\", \"200 €\", \"500 €\", \"10 €\", \"50 €\", \"70 €\"] \n",
    "#cambiare il simbolo dell'euro (€) in quello del dollaro ($) per ogni stringa nella lista; il risultato sarà memorizzato in un'altra lista."
   ]
  },
  {
   "cell_type": "code",
   "execution_count": 23,
   "id": "1def83ab-799f-41b2-a83e-a294237eccaf",
   "metadata": {},
   "outputs": [
    {
     "name": "stdout",
     "output_type": "stream",
     "text": [
      "Prezzi in euro:\n",
      "100 €\n",
      "200 €\n",
      "500 €\n",
      "10 €\n",
      "50 €\n",
      "70 €\n",
      "Prezzi in dollari:\n",
      "100 $\n",
      "200 $\n",
      "500 $\n",
      "10 $\n",
      "50 $\n",
      "70 $\n"
     ]
    }
   ],
   "source": [
    "# Lista di prezzi in euro\n",
    "prezzi = [\"100 €\", \"200 €\", \"500 €\", \"10 €\", \"50 €\", \"70 €\"]\n",
    "print(\"Prezzi in euro:\")\n",
    "for prezzo in prezzi:\n",
    "    print(prezzo)\n",
    "# Lista di prezzi in dollari\n",
    "prezzi_in_dollari = []\n",
    "\n",
    "# Sostituire il simbolo dell'euro con quello del dollaro per ogni elemento della lista\n",
    "for prezzo in prezzi:\n",
    "    prezzo_in_dollari = prezzo.replace(\"€\", \"$\")\n",
    "    prezzi_in_dollari.append(prezzo_in_dollari)\n",
    "\n",
    "# Stampare la lista di prezzi in dollari\n",
    "print(\"Prezzi in dollari:\")\n",
    "for prezzo in prezzi_in_dollari:\n",
    "    print(prezzo)\n"
   ]
  },
  {
   "cell_type": "code",
   "execution_count": null,
   "id": "98ae8e29-2251-4f08-9a3b-bec05151da39",
   "metadata": {},
   "outputs": [],
   "source": [
    "#Esercizio Abbiamo una lista di studenti: vogliamo dividere gli studenti in due squadre per un campionato di Uno nel seguente modo: \n",
    "#selezioneremo i nomi in posizione pari per un squadra, e i nomi in posizione dispari per l'altra. \n",
    "#Creiamo due liste per ogni squadra, e alla fine visualizziamole."
   ]
  },
  {
   "cell_type": "code",
   "execution_count": 24,
   "id": "5904ae8b-f247-4a95-86d2-c12d14f873e7",
   "metadata": {},
   "outputs": [
    {
     "name": "stdout",
     "output_type": "stream",
     "text": [
      "Squadra Pari: ['Alex', 'Cindy', 'Emma', 'Grace', 'Isabelle']\n",
      "Squadra Dispari: ['Bob', 'Dan', 'Faith', 'Henry', 'John']\n"
     ]
    }
   ],
   "source": [
    "# Lista degli studenti\n",
    "studenti = [\"Alex\", \"Bob\", \"Cindy\", \"Dan\", \"Emma\", \"Faith\", \"Grace\", \"Henry\", \"Isabelle\", \"John\"]\n",
    "\n",
    "# Inizializzazione delle liste per le due squadre\n",
    "squadra_pari = []\n",
    "squadra_dispari = []\n",
    "\n",
    "# Iteriamo attraverso gli studenti e assegniamo alle squadre in base alla posizione nella lista\n",
    "for i, studente in enumerate(studenti):\n",
    "    if i % 2 == 0:  # Posizione pari\n",
    "        squadra_pari.append(studente)\n",
    "    else:  # Posizione dispari\n",
    "        squadra_dispari.append(studente)\n",
    "\n",
    "# Visualizziamo le due squadre\n",
    "print(\"Squadra Pari:\", squadra_pari)\n",
    "print(\"Squadra Dispari:\", squadra_dispari)"
   ]
  },
  {
   "cell_type": "code",
   "execution_count": 25,
   "id": "0b61de11-d3a7-45cd-948a-fcc8737fb9fd",
   "metadata": {},
   "outputs": [
    {
     "ename": "SyntaxError",
     "evalue": "unterminated string literal (detected at line 1) (1774334939.py, line 1)",
     "output_type": "error",
     "traceback": [
      "\u001b[1;36m  Cell \u001b[1;32mIn[25], line 1\u001b[1;36m\u001b[0m\n\u001b[1;33m    Esercizio Abbiamo una lista con i guadagni degli ultimi 12 mesi (supponiamo da Gennaio a Dicembre): guadagni = [100, 90, 70, 40, 50, 80, 90, 120, 80, 20, 50, 50] dobbiamo confrontare, stampando tutto a video, il guadagno di ogni mese con la media dei guadagni precedenti, e specificare nell'output se il guadagno attuale è maggiore o minore della media dei precedenti. Esempio di un possibile output: Mese 1: 100 € Mese 2: 90 € (media prec: 100 € - il guadagno attuale è minore)\u001b[0m\n\u001b[1;37m                                                                                                                                                                                                                                                                                                      ^\u001b[0m\n\u001b[1;31mSyntaxError\u001b[0m\u001b[1;31m:\u001b[0m unterminated string literal (detected at line 1)\n"
     ]
    }
   ],
   "source": [
    "#Esercizio Abbiamo una lista con i guadagni degli ultimi 12 mesi (supponiamo da Gennaio a Dicembre): \n",
    "#dobbiamo confrontare, stampando tutto a video, il guadagno di ogni mese con la media dei guadagni precedenti, \n",
    "#e specificare nell'output se il guadagno attuale è maggiore o minore della media dei precedenti. \n",
    "#Esempio di un possibile output: Mese 1: 100 € Mese 2: 90 € (media prec: 100 € - il guadagno attuale è minore)"
   ]
  },
  {
   "cell_type": "code",
   "execution_count": 27,
   "id": "5f069805-5275-49f7-9a02-99af22b9e203",
   "metadata": {},
   "outputs": [
    {
     "name": "stdout",
     "output_type": "stream",
     "text": [
      "Mese 1 : 100 € (media prec: 0.0 € - il guadagno attuale è maggiore)\n",
      "Mese 2 : 90 € (media prec: 100.0 € - il guadagno attuale è minore)\n",
      "Mese 3 : 70 € (media prec: 95.0 € - il guadagno attuale è minore)\n",
      "Mese 4 : 40 € (media prec: 86.66666666666667 € - il guadagno attuale è minore)\n",
      "Mese 5 : 50 € (media prec: 75.0 € - il guadagno attuale è minore)\n",
      "Mese 6 : 80 € (media prec: 70.0 € - il guadagno attuale è maggiore)\n",
      "Mese 7 : 90 € (media prec: 71.66666666666667 € - il guadagno attuale è maggiore)\n",
      "Mese 8 : 120 € (media prec: 74.28571428571429 € - il guadagno attuale è maggiore)\n",
      "Mese 9 : 80 € (media prec: 80.0 € - il guadagno attuale è minore)\n",
      "Mese 10 : 20 € (media prec: 80.0 € - il guadagno attuale è minore)\n",
      "Mese 11 : 50 € (media prec: 74.0 € - il guadagno attuale è minore)\n",
      "Mese 12 : 50 € (media prec: 71.81818181818181 € - il guadagno attuale è minore)\n"
     ]
    }
   ],
   "source": [
    "# Lista dei guadagni degli ultimi 12 mesi\n",
    "guadagni = [100, 90, 70, 40, 50, 80, 90, 120, 80, 20, 50, 50]\n",
    "\n",
    "# Iteriamo attraverso i guadagni e confrontiamo ciascun guadagno con la media dei guadagni precedenti\n",
    "for i in range(len(guadagni)):\n",
    "    mese = i + 1\n",
    "    guadagno_attuale = guadagni[i]\n",
    "    media_precedenti = sum(guadagni[:i]) / max(i, 1)  # Calcoliamo la media dei guadagni precedenti\n",
    "    confronto = \"maggiore\" if guadagno_attuale > media_precedenti else \"minore\"  # Confronto tra il guadagno attuale e la media dei precedenti\n",
    "    \n",
    "    # Stampa il risultato\n",
    "    print(\"Mese\", mese, \":\", guadagno_attuale, \"€ (media prec:\", media_precedenti, \"€ - il guadagno attuale è\", confronto + \")\")\n"
   ]
  },
  {
   "cell_type": "code",
   "execution_count": null,
   "id": "8b5ea044-f348-4011-8dd3-bad4f8dc5996",
   "metadata": {},
   "outputs": [],
   "source": []
  }
 ],
 "metadata": {
  "kernelspec": {
   "display_name": "Python 3 (ipykernel)",
   "language": "python",
   "name": "python3"
  },
  "language_info": {
   "codemirror_mode": {
    "name": "ipython",
    "version": 3
   },
   "file_extension": ".py",
   "mimetype": "text/x-python",
   "name": "python",
   "nbconvert_exporter": "python",
   "pygments_lexer": "ipython3",
   "version": "3.11.7"
  }
 },
 "nbformat": 4,
 "nbformat_minor": 5
}
